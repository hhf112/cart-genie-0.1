{
  "nbformat": 4,
  "nbformat_minor": 0,
  "metadata": {
    "colab": {
      "provenance": [],
      "gpuType": "T4"
    },
    "kernelspec": {
      "name": "python3",
      "display_name": "Python 3"
    },
    "language_info": {
      "name": "python"
    },
    "accelerator": "GPU"
  },
  "cells": [
    {
      "cell_type": "code",
      "source": [
        "!pip install flask pyngrok sentence-transformers pillow\n"
      ],
      "metadata": {
        "id": "Dq5Dcjh3nAOD",
        "collapsed": true
      },
      "execution_count": null,
      "outputs": []
    },
    {
      "cell_type": "code",
      "source": [
        "# !pip install flask pyngrok sentence-transformers pillow\n",
        "from flask import Flask, request, jsonify\n",
        "from pyngrok import ngrok\n",
        "import json\n",
        "from sentence_transformers import SentenceTransformer\n",
        "from PIL import Image\n",
        "from google.colab import userdata\n",
        "\n",
        "\n",
        "model = SentenceTransformer('clip-ViT-B-32')\n",
        "\n",
        "def getEmbeddingFromFile(file):\n",
        "    image = Image.open(file.stream)\n",
        "    embedding = model.encode(image)\n",
        "    return embedding.tolist()\n",
        "\n",
        "\n",
        "\n",
        "ngrok.set_auth_token(userdata.get('NGROK_AUTHTOKEN'))\n",
        "\n",
        "app = Flask(__name__)\n",
        "\n",
        "@app.route(\"/test\", methods = [\"GET\"])\n",
        "def test():\n",
        "    return jsonify({\"status\": \"working\"})\n",
        "\n",
        "\n",
        "@app.route(\"/upload\", methods = [\"POST\"])\n",
        "def upload():\n",
        "  retur = []\n",
        "  imageEmbeds = []\n",
        "  textEmbed= []\n",
        "  for img in request.files.getlist(\"images\"):\n",
        "    imageEmbeds.append(getEmbeddingFromFile(img))\n",
        "  prompt = request.form[\"text\"]:\n",
        "  textEmbed = model.encode(prompt).tolist()\n",
        "  retur = 0.7*imageEmbeds + 0.3*textEmbed\n",
        "  return jsonify(retur), 200\n",
        "\n",
        "\n",
        "if __name__ == \"__main__\":\n",
        "  public_url = ngrok.connect(5000)\n",
        "  print(\"Ngrok tunnel URL:\", public_url)\n",
        "  app.run(host='0.0.0.0' , port=5000, debug = False)\n"
      ],
      "metadata": {
        "id": "clDIccXDnNz_"
      },
      "execution_count": null,
      "outputs": []
    }
  ]
}