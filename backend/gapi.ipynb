from http.server import HTTPServer, BaseHTTPRequestHandler
from pyngrok import ngrok
import json
import requests
from io import BytesIO
from sentence_transformers import SentenceTransformer
from PIL import Image

model = SentenceTransformer('clip-ViT-B-32')

def get_image_embedding_from_url(url):
    response = requests.get(url)
    response.raise_for_status()
    image = Image.open(BytesIO(response.content)).convert("RGB")
    embedding = model.encode(image)
    return json.dumps(embedding.tolist())

ngrok.set_auth_token("2xZh0l9OhXz6H5PIXSGKKKbqlR8_2332ToAatsxQU1adnzx1A")

class SimpleHandler(BaseHTTPRequestHandler):
    def do_POST(self):
        if self.path == "/getembeds":
            content_length = int(self.headers['Content-Length'])
            post_data = self.rfile.read(content_length)
            data = json.loads(post_data.decode('utf-8'))
            

            self.send_response(200)
            self.send_header("Content-type", "application/json")
            self.end_headers()
            response = json.dumps({"status": "received", "embeddings": get_image_embedding_from_url(data["url"])})
            self.wfile.write(response.encode('utf-8'))

# Open ngrok tunnel
public_url = ngrok.connect(5000)
print("Ngrok tunnel URL:", public_url)

# Start server
httpd = HTTPServer(('localhost', 5000), SimpleHandler)
print("Serving on port 5000")
httpd.serve_forever()
